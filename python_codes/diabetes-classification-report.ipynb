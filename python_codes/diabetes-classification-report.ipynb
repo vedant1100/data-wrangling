{
 "cells": [
  {
   "cell_type": "code",
   "execution_count": 1,
   "id": "99fb6989",
   "metadata": {
    "_cell_guid": "b1076dfc-b9ad-4769-8c92-a6c4dae69d19",
    "_uuid": "8f2839f25d086af736a60e9eeb907d3b93b6e0e5",
    "execution": {
     "iopub.execute_input": "2023-04-21T13:15:04.555049Z",
     "iopub.status.busy": "2023-04-21T13:15:04.554378Z",
     "iopub.status.idle": "2023-04-21T13:15:04.577070Z",
     "shell.execute_reply": "2023-04-21T13:15:04.575465Z"
    },
    "papermill": {
     "duration": 0.033156,
     "end_time": "2023-04-21T13:15:04.580386",
     "exception": false,
     "start_time": "2023-04-21T13:15:04.547230",
     "status": "completed"
    },
    "tags": []
   },
   "outputs": [
    {
     "name": "stdout",
     "output_type": "stream",
     "text": [
      "/kaggle/input/diabetes-dataset/diabetes.csv\n"
     ]
    }
   ],
   "source": [
    "# This Python 3 environment comes with many helpful analytics libraries installed\n",
    "# It is defined by the kaggle/python Docker image: https://github.com/kaggle/docker-python\n",
    "# For example, here's several helpful packages to load\n",
    "\n",
    "import numpy as np # linear algebra\n",
    "import pandas as pd # data processing, CSV file I/O (e.g. pd.read_csv)\n",
    "\n",
    "# Input data files are available in the read-only \"../input/\" directory\n",
    "# For example, running this (by clicking run or pressing Shift+Enter) will list all files under the input directory\n",
    "\n",
    "import os\n",
    "for dirname, _, filenames in os.walk('/kaggle/input'):\n",
    "    for filename in filenames:\n",
    "        print(os.path.join(dirname, filename))\n",
    "\n",
    "# You can write up to 20GB to the current directory (/kaggle/working/) that gets preserved as output when you create a version using \"Save & Run All\" \n",
    "# You can also write temporary files to /kaggle/temp/, but they won't be saved outside of the current session"
   ]
  },
  {
   "cell_type": "code",
   "execution_count": 2,
   "id": "78fc5fcc",
   "metadata": {
    "execution": {
     "iopub.execute_input": "2023-04-21T13:15:04.591267Z",
     "iopub.status.busy": "2023-04-21T13:15:04.590416Z",
     "iopub.status.idle": "2023-04-21T13:15:05.460326Z",
     "shell.execute_reply": "2023-04-21T13:15:05.458956Z"
    },
    "papermill": {
     "duration": 0.87812,
     "end_time": "2023-04-21T13:15:05.463047",
     "exception": false,
     "start_time": "2023-04-21T13:15:04.584927",
     "status": "completed"
    },
    "tags": []
   },
   "outputs": [
    {
     "data": {
      "text/plain": [
       "Index(['pregnancies', 'glucose', 'diastolic', 'triceps', 'insulin', 'bmi',\n",
       "       'dpf', 'age', 'diabetes'],\n",
       "      dtype='object')"
      ]
     },
     "execution_count": 2,
     "metadata": {},
     "output_type": "execute_result"
    }
   ],
   "source": [
    "diabetes=pd.read_csv(\"https://github.com/YBIFoundation/Dataset/raw/main/Diabetes.csv\")\n",
    "diabetes.columns"
   ]
  },
  {
   "cell_type": "code",
   "execution_count": 3,
   "id": "faa87718",
   "metadata": {
    "execution": {
     "iopub.execute_input": "2023-04-21T13:15:05.474126Z",
     "iopub.status.busy": "2023-04-21T13:15:05.473706Z",
     "iopub.status.idle": "2023-04-21T13:15:05.486837Z",
     "shell.execute_reply": "2023-04-21T13:15:05.485701Z"
    },
    "papermill": {
     "duration": 0.021924,
     "end_time": "2023-04-21T13:15:05.489553",
     "exception": false,
     "start_time": "2023-04-21T13:15:05.467629",
     "status": "completed"
    },
    "tags": []
   },
   "outputs": [],
   "source": [
    "\"\"\"\n",
    "Define target(y) and features(x)\n",
    "\"\"\"\n",
    "\n",
    "y = diabetes['diabetes']\n",
    "x = diabetes.drop(['diabetes'],axis=1)"
   ]
  },
  {
   "cell_type": "code",
   "execution_count": 4,
   "id": "d6f53b2c",
   "metadata": {
    "execution": {
     "iopub.execute_input": "2023-04-21T13:15:05.500753Z",
     "iopub.status.busy": "2023-04-21T13:15:05.500340Z",
     "iopub.status.idle": "2023-04-21T13:15:06.515684Z",
     "shell.execute_reply": "2023-04-21T13:15:06.514392Z"
    },
    "papermill": {
     "duration": 1.024417,
     "end_time": "2023-04-21T13:15:06.518618",
     "exception": false,
     "start_time": "2023-04-21T13:15:05.494201",
     "status": "completed"
    },
    "tags": []
   },
   "outputs": [],
   "source": [
    "\"\"\"\n",
    "Train test split\n",
    "\"\"\"\n",
    "\n",
    "from sklearn.model_selection import train_test_split\n",
    "x_train,x_test,y_train,y_test=train_test_split(x,y,random_state=100)"
   ]
  },
  {
   "cell_type": "code",
   "execution_count": 5,
   "id": "497df954",
   "metadata": {
    "execution": {
     "iopub.execute_input": "2023-04-21T13:15:06.529711Z",
     "iopub.status.busy": "2023-04-21T13:15:06.528974Z",
     "iopub.status.idle": "2023-04-21T13:15:06.630542Z",
     "shell.execute_reply": "2023-04-21T13:15:06.629261Z"
    },
    "papermill": {
     "duration": 0.110478,
     "end_time": "2023-04-21T13:15:06.633445",
     "exception": false,
     "start_time": "2023-04-21T13:15:06.522967",
     "status": "completed"
    },
    "tags": []
   },
   "outputs": [],
   "source": [
    "from sklearn.linear_model import LogisticRegression\n",
    "model=LogisticRegression(max_iter=500)"
   ]
  },
  {
   "cell_type": "code",
   "execution_count": 6,
   "id": "ad2e9676",
   "metadata": {
    "execution": {
     "iopub.execute_input": "2023-04-21T13:15:06.645632Z",
     "iopub.status.busy": "2023-04-21T13:15:06.644407Z",
     "iopub.status.idle": "2023-04-21T13:15:06.704987Z",
     "shell.execute_reply": "2023-04-21T13:15:06.703476Z"
    },
    "papermill": {
     "duration": 0.069679,
     "end_time": "2023-04-21T13:15:06.707671",
     "exception": false,
     "start_time": "2023-04-21T13:15:06.637992",
     "status": "completed"
    },
    "tags": []
   },
   "outputs": [
    {
     "data": {
      "text/plain": [
       "LogisticRegression(max_iter=500)"
      ]
     },
     "execution_count": 6,
     "metadata": {},
     "output_type": "execute_result"
    }
   ],
   "source": [
    "model.fit(x_train,y_train)"
   ]
  },
  {
   "cell_type": "code",
   "execution_count": 7,
   "id": "c19d315a",
   "metadata": {
    "execution": {
     "iopub.execute_input": "2023-04-21T13:15:06.719035Z",
     "iopub.status.busy": "2023-04-21T13:15:06.717982Z",
     "iopub.status.idle": "2023-04-21T13:15:06.726499Z",
     "shell.execute_reply": "2023-04-21T13:15:06.725232Z"
    },
    "papermill": {
     "duration": 0.01737,
     "end_time": "2023-04-21T13:15:06.729499",
     "exception": false,
     "start_time": "2023-04-21T13:15:06.712129",
     "status": "completed"
    },
    "tags": []
   },
   "outputs": [
    {
     "data": {
      "text/plain": [
       "True"
      ]
     },
     "execution_count": 7,
     "metadata": {},
     "output_type": "execute_result"
    }
   ],
   "source": [
    "model.fit_intercept"
   ]
  },
  {
   "cell_type": "code",
   "execution_count": 8,
   "id": "8c2c0557",
   "metadata": {
    "execution": {
     "iopub.execute_input": "2023-04-21T13:15:06.752569Z",
     "iopub.status.busy": "2023-04-21T13:15:06.752007Z",
     "iopub.status.idle": "2023-04-21T13:15:06.762571Z",
     "shell.execute_reply": "2023-04-21T13:15:06.761602Z"
    },
    "papermill": {
     "duration": 0.021591,
     "end_time": "2023-04-21T13:15:06.765083",
     "exception": false,
     "start_time": "2023-04-21T13:15:06.743492",
     "status": "completed"
    },
    "tags": []
   },
   "outputs": [
    {
     "data": {
      "text/plain": [
       "array([[ 1.03186872e-01,  3.85554833e-02, -1.12828523e-02,\n",
       "         6.59810996e-04, -1.25282607e-03,  9.74622608e-02,\n",
       "         1.16192580e+00,  2.33752775e-02]])"
      ]
     },
     "execution_count": 8,
     "metadata": {},
     "output_type": "execute_result"
    }
   ],
   "source": [
    "model.coef_"
   ]
  },
  {
   "cell_type": "code",
   "execution_count": 9,
   "id": "f2c4d118",
   "metadata": {
    "execution": {
     "iopub.execute_input": "2023-04-21T13:15:06.777997Z",
     "iopub.status.busy": "2023-04-21T13:15:06.777548Z",
     "iopub.status.idle": "2023-04-21T13:15:06.787615Z",
     "shell.execute_reply": "2023-04-21T13:15:06.786345Z"
    },
    "papermill": {
     "duration": 0.0204,
     "end_time": "2023-04-21T13:15:06.790170",
     "exception": false,
     "start_time": "2023-04-21T13:15:06.769770",
     "status": "completed"
    },
    "tags": []
   },
   "outputs": [
    {
     "data": {
      "text/plain": [
       "array([0, 0, 1, 0, 0, 1, 1, 0, 1, 0, 0, 1, 1, 0, 1, 0, 0, 0, 1, 0, 0, 0,\n",
       "       1, 1, 0, 1, 0, 0, 1, 1, 0, 1, 0, 1, 0, 0, 1, 0, 0, 0, 0, 1, 0, 0,\n",
       "       0, 1, 0, 0, 1, 1, 0, 0, 0, 1, 1, 1, 0, 0, 1, 0, 0, 0, 0, 0, 0, 0,\n",
       "       0, 0, 0, 0, 0, 1, 0, 0, 0, 0, 0, 1, 0, 0, 0, 0, 0, 0, 0, 0, 0, 1,\n",
       "       1, 0, 0, 0, 1, 0, 0, 1, 0, 1, 0, 0, 1, 0, 1, 0, 0, 0, 1, 0, 0, 1,\n",
       "       0, 0, 1, 0, 0, 0, 1, 0, 0, 0, 0, 1, 0, 0, 0, 0, 0, 0, 0, 0, 0, 1,\n",
       "       1, 0, 0, 1, 0, 0, 0, 0, 1, 1, 0, 1, 0, 0, 0, 0, 0, 0, 0, 0, 0, 0,\n",
       "       1, 0, 0, 0, 1, 0, 0, 0, 0, 0, 0, 0, 1, 0, 0, 0, 0, 1, 0, 0, 1, 1,\n",
       "       1, 0, 1, 0, 1, 1, 0, 0, 1, 0, 0, 0, 0, 0, 1, 0])"
      ]
     },
     "execution_count": 9,
     "metadata": {},
     "output_type": "execute_result"
    }
   ],
   "source": [
    "model.predict(x_test)"
   ]
  },
  {
   "cell_type": "code",
   "execution_count": 10,
   "id": "eabeeb56",
   "metadata": {
    "execution": {
     "iopub.execute_input": "2023-04-21T13:15:06.802624Z",
     "iopub.status.busy": "2023-04-21T13:15:06.801504Z",
     "iopub.status.idle": "2023-04-21T13:15:06.809044Z",
     "shell.execute_reply": "2023-04-21T13:15:06.808153Z"
    },
    "papermill": {
     "duration": 0.016626,
     "end_time": "2023-04-21T13:15:06.811644",
     "exception": false,
     "start_time": "2023-04-21T13:15:06.795018",
     "status": "completed"
    },
    "tags": []
   },
   "outputs": [],
   "source": [
    "y=model.predict(x_test)"
   ]
  },
  {
   "cell_type": "code",
   "execution_count": 11,
   "id": "f71f521e",
   "metadata": {
    "execution": {
     "iopub.execute_input": "2023-04-21T13:15:06.823579Z",
     "iopub.status.busy": "2023-04-21T13:15:06.822731Z",
     "iopub.status.idle": "2023-04-21T13:15:06.834266Z",
     "shell.execute_reply": "2023-04-21T13:15:06.833104Z"
    },
    "papermill": {
     "duration": 0.020311,
     "end_time": "2023-04-21T13:15:06.836717",
     "exception": false,
     "start_time": "2023-04-21T13:15:06.816406",
     "status": "completed"
    },
    "tags": []
   },
   "outputs": [
    {
     "data": {
      "text/plain": [
       "array([[106,  21],\n",
       "       [ 30,  35]])"
      ]
     },
     "execution_count": 11,
     "metadata": {},
     "output_type": "execute_result"
    }
   ],
   "source": [
    "from sklearn.metrics import confusion_matrix, accuracy_score, classification_report\n",
    "confusion_matrix(y_test,y)"
   ]
  },
  {
   "cell_type": "code",
   "execution_count": 12,
   "id": "d9578772",
   "metadata": {
    "execution": {
     "iopub.execute_input": "2023-04-21T13:15:06.848850Z",
     "iopub.status.busy": "2023-04-21T13:15:06.848030Z",
     "iopub.status.idle": "2023-04-21T13:15:06.855888Z",
     "shell.execute_reply": "2023-04-21T13:15:06.854954Z"
    },
    "papermill": {
     "duration": 0.017117,
     "end_time": "2023-04-21T13:15:06.858745",
     "exception": false,
     "start_time": "2023-04-21T13:15:06.841628",
     "status": "completed"
    },
    "tags": []
   },
   "outputs": [
    {
     "data": {
      "text/plain": [
       "0.734375"
      ]
     },
     "execution_count": 12,
     "metadata": {},
     "output_type": "execute_result"
    }
   ],
   "source": [
    "accuracy_score(y_test,y)"
   ]
  },
  {
   "cell_type": "code",
   "execution_count": 13,
   "id": "0ce5d45d",
   "metadata": {
    "execution": {
     "iopub.execute_input": "2023-04-21T13:15:06.871027Z",
     "iopub.status.busy": "2023-04-21T13:15:06.870156Z",
     "iopub.status.idle": "2023-04-21T13:15:06.880948Z",
     "shell.execute_reply": "2023-04-21T13:15:06.879554Z"
    },
    "papermill": {
     "duration": 0.020177,
     "end_time": "2023-04-21T13:15:06.883927",
     "exception": false,
     "start_time": "2023-04-21T13:15:06.863750",
     "status": "completed"
    },
    "tags": []
   },
   "outputs": [
    {
     "name": "stdout",
     "output_type": "stream",
     "text": [
      "              precision    recall  f1-score   support\n",
      "\n",
      "           0       0.78      0.83      0.81       127\n",
      "           1       0.62      0.54      0.58        65\n",
      "\n",
      "    accuracy                           0.73       192\n",
      "   macro avg       0.70      0.69      0.69       192\n",
      "weighted avg       0.73      0.73      0.73       192\n",
      "\n"
     ]
    }
   ],
   "source": [
    "print(classification_report(y_test,y))"
   ]
  },
  {
   "cell_type": "code",
   "execution_count": null,
   "id": "eb1420e9",
   "metadata": {
    "papermill": {
     "duration": 0.00482,
     "end_time": "2023-04-21T13:15:06.893912",
     "exception": false,
     "start_time": "2023-04-21T13:15:06.889092",
     "status": "completed"
    },
    "tags": []
   },
   "outputs": [],
   "source": []
  }
 ],
 "metadata": {
  "kernelspec": {
   "display_name": "Python 3",
   "language": "python",
   "name": "python3"
  },
  "language_info": {
   "codemirror_mode": {
    "name": "ipython",
    "version": 3
   },
   "file_extension": ".py",
   "mimetype": "text/x-python",
   "name": "python",
   "nbconvert_exporter": "python",
   "pygments_lexer": "ipython3",
   "version": "3.7.12"
  },
  "papermill": {
   "default_parameters": {},
   "duration": 13.009298,
   "end_time": "2023-04-21T13:15:07.620679",
   "environment_variables": {},
   "exception": null,
   "input_path": "__notebook__.ipynb",
   "output_path": "__notebook__.ipynb",
   "parameters": {},
   "start_time": "2023-04-21T13:14:54.611381",
   "version": "2.4.0"
  }
 },
 "nbformat": 4,
 "nbformat_minor": 5
}
